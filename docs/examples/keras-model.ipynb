{
 "cells": [
  {
   "cell_type": "markdown",
   "metadata": {},
   "source": [
    "# Using a TensorNode class to insert a network built with the Tensorflow Keras API into a Nengo model\n",
    "This tutorial builds on [Inserting a TensorFlow network into a Nengo model](./pretrained-model.ipynb). In that tutorial, we showed how to write a TensorNode class that makes it easy to insert a pre-trained network from `tf.contrib.slim` into a Nengo model.  \n",
    "Sometimes, instead of using a pre-trained network, you may want to use your own neural net architecture within a TensorNode. Here we show how a network built with the `tf.keras` API can be insterted into a Nengo model using the TensorNode class. If you haven't read the previous tutorial, please work through that one to familiarize yourself with the concept we'll use here. This tutorial also assumes familiarity with the `tf.keras` API. Specifically it is based on the [introduction in the Tensorflow documentation](https://www.tensorflow.org/tutorials/keras/basic_classification), so if you are not yet familiar with Keras, you may find it helpful to read those tutorials first as well."
   ]
  },
  {
   "cell_type": "code",
   "execution_count": 1,
   "metadata": {},
   "outputs": [],
   "source": [
    "import numpy as np\n",
    "import tensorflow as tf\n",
    "from tensorflow import keras\n",
    "\n",
    "import nengo\n",
    "import nengo_dl"
   ]
  },
  {
   "cell_type": "markdown",
   "metadata": {},
   "source": [
    "We'll train a neural network to classify the fashion MNIST dataset."
   ]
  },
  {
   "cell_type": "code",
   "execution_count": 2,
   "metadata": {},
   "outputs": [],
   "source": [
    "fashion_mnist = keras.datasets.fashion_mnist\n",
    "\n",
    "(train_images, train_labels), (test_images, test_labels) = fashion_mnist.load_data()\n",
    "num_classes = np.unique(test_labels).shape[0]  # there's 10, just like MNIST\n",
    "\n",
    "# normalize images so values are between 0 and 1\n",
    "train_images = train_images / 255.0\n",
    "test_images = test_images / 255.0"
   ]
  },
  {
   "cell_type": "markdown",
   "metadata": {},
   "source": [
    "First we build and train a very simple fully-connected neural network, using the Keras API to work with Tensorflow."
   ]
  },
  {
   "cell_type": "code",
   "execution_count": 3,
   "metadata": {},
   "outputs": [],
   "source": [
    "model = keras.Sequential([\n",
    "            keras.layers.Flatten(input_shape=(28, 28), name='flatten'),\n",
    "            keras.layers.Dense(128, activation=tf.nn.relu, name='hidden'),\n",
    "            keras.layers.Dense(num_classes, activation=tf.nn.softmax, name='softmax')\n",
    "        ])\n",
    "\n",
    "model.compile(optimizer=tf.train.AdamOptimizer(), \n",
    "                      loss='sparse_categorical_crossentropy',\n",
    "                      metrics=['accuracy'])"
   ]
  },
  {
   "cell_type": "code",
   "execution_count": 4,
   "metadata": {},
   "outputs": [
    {
     "name": "stdout",
     "output_type": "stream",
     "text": [
      "Epoch 1/5\n",
      "60000/60000 [==============================] - 7s 120us/step - loss: 0.4984 - acc: 0.8263\n",
      "Epoch 2/5\n",
      "60000/60000 [==============================] - 4s 63us/step - loss: 0.3728 - acc: 0.8668\n",
      "Epoch 3/5\n",
      "60000/60000 [==============================] - 4s 64us/step - loss: 0.3363 - acc: 0.8779\n",
      "Epoch 4/5\n",
      "60000/60000 [==============================] - 4s 64us/step - loss: 0.3130 - acc: 0.8843\n",
      "Epoch 5/5\n",
      "60000/60000 [==============================] - 4s 65us/step - loss: 0.2943 - acc: 0.8919\n"
     ]
    },
    {
     "data": {
      "text/plain": [
       "<tensorflow.python.keras.callbacks.History at 0x7f867cb20438>"
      ]
     },
     "execution_count": 4,
     "metadata": {},
     "output_type": "execute_result"
    }
   ],
   "source": [
    "model.fit(train_images, train_labels, epochs=5)"
   ]
  },
  {
   "cell_type": "markdown",
   "metadata": {},
   "source": [
    "We save the trained weights. This way, as in the previous tutorial, we can load them in the `post_build` method of the class that we'll use inside our `TensorNode`."
   ]
  },
  {
   "cell_type": "code",
   "execution_count": 5,
   "metadata": {},
   "outputs": [],
   "source": [
    "model.save_weights('fully_connected_weights.h5')"
   ]
  },
  {
   "cell_type": "markdown",
   "metadata": {},
   "source": [
    "As in the first `TensorNode` tutorial, we write a class with a `pre_build` method that specifies the structure of our neural network, this time doing so with the high-level Keras API (by literally cutting and pasting the code we used to define our network when training it). We also use the `post_build` method where we can load the weights, after our network has been built as a dataflow graph that `Tensorflow` can execute within its C++ runtime. And again as before we provide a `__call__` method that gets executed at each timestep of our simulation that will be run with Nengo.\n",
    "\n",
    "Notice that in the `post_build` function, we use the session that Nengo-DL passes to post_build as a context manager:\n",
    "```Ptyon\n",
    "with sess.as_default():\n",
    "```\n",
    "This way the loaded weights get added to the model that was built. If we don't do this, Keras will try to load the weights into the default session instead.\n",
    "\n",
    "Notice also that in the `__call__` method, we simply pass our input tensor to the Keras model *without* calling a method such as `Model.predict` that you might intuitively write if you frequently work with the Keras API. We do this because we want the model to return a `Tensor` object, not computed predictions, i.e. a Numpy array of floats. This way the returned `Tensor` can become part of the dataflow graph that Tensorflow creates for its C++ runtime when acting as the Nengo backend."
   ]
  },
  {
   "cell_type": "code",
   "execution_count": 41,
   "metadata": {},
   "outputs": [],
   "source": [
    "model_weights = 'fully_connected_weights.h5'\n",
    "image_shape = (28, 28)\n",
    "\n",
    "class FullyConnectedNode:\n",
    "    def pre_build(self, *args):\n",
    "        self.model = keras.Sequential([\n",
    "            keras.layers.Flatten(input_shape=image_shape),\n",
    "            keras.layers.Dense(128, activation=tf.nn.relu),\n",
    "            keras.layers.Dense(10, activation=tf.nn.softmax)\n",
    "        ])\n",
    "\n",
    "    def post_build(self, sess, rng):\n",
    "        # make use of session so Keras adds weights to the already built model\n",
    "        with sess.as_default():\n",
    "            self.model.load_weights(model_weights)\n",
    "\n",
    "    def __call__(self, t, x):\n",
    "        images = tf.reshape(x, (-1,) + image_shape)\n",
    "        return self.model(images)"
   ]
  },
  {
   "cell_type": "markdown",
   "metadata": {},
   "source": [
    "To better understand the difference between just writing `model(images)` and `model.predict(images)`, you can read and/or run the code in the cell below."
   ]
  },
  {
   "cell_type": "code",
   "execution_count": 7,
   "metadata": {},
   "outputs": [
    {
     "name": "stdout",
     "output_type": "stream",
     "text": [
      "Type of 'out1':  <class 'tensorflow.python.framework.ops.Tensor'>\n",
      "Type of 'out2':  <class 'numpy.ndarray'>\n"
     ]
    }
   ],
   "source": [
    "model_weights = 'fully_connected_weights.h5'\n",
    "image_shape = (28, 28)\n",
    "\n",
    "with tf.Session() as sess:\n",
    "    model = keras.Sequential([\n",
    "            keras.layers.Flatten(input_shape=(28, 28), name='flatten'),\n",
    "            keras.layers.Dense(128, activation=tf.nn.relu, name='hidden'),\n",
    "            keras.layers.Dense(10, activation=tf.nn.softmax, name='softmax')\n",
    "        ])\n",
    "    model.load_weights('fully_connected_weights.h5')\n",
    "    out1 = model(tf.convert_to_tensor(test_images[:10], dtype=tf.float32))\n",
    "    out2 = model.predict(test_images[:10])\n",
    "\n",
    "print(\"Type of 'out1': \", type(out1))\n",
    "print(\"Type of 'out2': \", type(out2))"
   ]
  },
  {
   "cell_type": "markdown",
   "metadata": {},
   "source": [
    "Now that we have our `FullyConnectedNode` class, we can use it to insert our fully-connected Keras model into a Nengo network via a `TensorNode`.\n",
    "\n",
    "Notice here that we use a numpy `ones` vector as a dummy `output` from our `input_node`; it  will be replaced by our Fashion MNIST images, flattened into vectors, when we run the `Simulator`."
   ]
  },
  {
   "cell_type": "code",
   "execution_count": 42,
   "metadata": {},
   "outputs": [],
   "source": [
    "net_input_shape = np.prod(image_shape)  # because input will be a vector\n",
    "\n",
    "with nengo.Network() as net:\n",
    "    # create a normal input node to feed in our test image\n",
    "    input_node = nengo.Node(output=np.ones((net_input_shape,)),\n",
    "                                           label='input')\n",
    "\n",
    "    # create our TensorNode containing the FullyConnectedNode() we defined\n",
    "    # above.  we also need to specify size_in (the dimensionality of\n",
    "    # our input vectors, the flattened images) and size_out (the number\n",
    "    # of classification classes output by the inception network)\n",
    "    fc_node = nengo_dl.TensorNode(\n",
    "        FullyConnectedNode(),\n",
    "        size_in=net_input_shape,\n",
    "        size_out=num_classes)\n",
    "\n",
    "    # connect up our input to our fully-connected network node\n",
    "    nengo.Connection(input_node, fc_node, synapse=None)\n",
    "\n",
    "    # add some probes to collect data\n",
    "    input_p = nengo.Probe(input_node)\n",
    "    fc_p = nengo.Probe(fc_node)"
   ]
  },
  {
   "cell_type": "markdown",
   "metadata": {},
   "source": [
    "In this very simple example, we only want to demonstrate *how* to use a `TensorNode` in a Nengo model, so we don't overcomplicate things with features from Nengo. However, typically you would have a Nengo model that integrates inputs over time; the simulator expects you to run for some number of time steps. So we specify a number of time steps."
   ]
  },
  {
   "cell_type": "code",
   "execution_count": 43,
   "metadata": {},
   "outputs": [],
   "source": [
    "n_steps = 200"
   ]
  },
  {
   "cell_type": "markdown",
   "metadata": {},
   "source": [
    "We also grab some images at random from our test set. Here we flatten them into vectors so we can pass them to the input node of our Nengo network."
   ]
  },
  {
   "cell_type": "code",
   "execution_count": 44,
   "metadata": {},
   "outputs": [],
   "source": [
    "minibatch_size = 20\n",
    "\n",
    "# flatten the test set so we can pass images as vectors to the input node\n",
    "test_images_flat = test_images.reshape([-1, np.prod(image_shape)])\n",
    "# grab some random images from test set\n",
    "inds = np.random.randint(low=0, high=test_images.shape[0], size=(minibatch_size,))\n",
    "# tile so that we have (minibatch size, time steps, images)\n",
    "minibatch = np.tile(test_images_flat[inds, None, :],(1, n_steps, 1))\n",
    "data = {input_node: minibatch}"
   ]
  },
  {
   "cell_type": "markdown",
   "metadata": {},
   "source": [
    "Finally we are ready to run the simulation."
   ]
  },
  {
   "cell_type": "code",
   "execution_count": 45,
   "metadata": {},
   "outputs": [
    {
     "name": "stdout",
     "output_type": "stream",
     "text": [
      "Build finished in 0:00:00                                                      \n",
      "Optimization finished in 0:00:00                                               \n",
      "Construction finished in 0:00:00                                               \n",
      "Simulation finished in 0:00:00                                                 \n"
     ]
    }
   ],
   "source": [
    "sim = nengo_dl.Simulator(net, minibatch_size=minibatch_size)\n",
    "\n",
    "with sim:\n",
    "    sim.run_steps(n_steps, data=data)"
   ]
  }
 ],
 "metadata": {
  "kernelspec": {
   "display_name": "Python [nengo-dl-dev]",
   "language": "python",
   "name": "Python [nengo-dl-dev]"
  },
  "language_info": {
   "codemirror_mode": {
    "name": "ipython",
    "version": 3
   },
   "file_extension": ".py",
   "mimetype": "text/x-python",
   "name": "python",
   "nbconvert_exporter": "python",
   "pygments_lexer": "ipython3",
   "version": "3.6.7"
  }
 },
 "nbformat": 4,
 "nbformat_minor": 2
}
